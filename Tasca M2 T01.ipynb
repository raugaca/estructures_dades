{
 "cells": [
  {
   "cell_type": "markdown",
   "id": "fe79eef3",
   "metadata": {},
   "source": [
    "# Exercici 1\n",
    "#### Crea una llista que agrupi els mesos de l’any en trimestres (1T: gener, febrer i març; 2T: abril, maig, juny...), és a dir, una llista amb 4 llistes dins."
   ]
  },
  {
   "cell_type": "code",
   "execution_count": 236,
   "id": "ed8fcf86",
   "metadata": {},
   "outputs": [
    {
     "name": "stdout",
     "output_type": "stream",
     "text": [
      "[['gener', 'febrer', 'març'], ['abril', 'maig', 'juny'], ['juliol', 'agost', 'setembre'], ['octubre', 'novembre', 'desembre']]\n"
     ]
    }
   ],
   "source": [
    "Trimestres=[['gener', 'febrer', 'març'], \n",
    "            ['abril', 'maig', 'juny'], \n",
    "            ['juliol', 'agost', 'setembre'], \n",
    "            ['octubre', 'novembre', 'desembre']]\n",
    "print(Trimestres)"
   ]
  },
  {
   "cell_type": "markdown",
   "id": "d66b738d",
   "metadata": {},
   "source": [
    "# Exercici2\n",
    "#### Crea un codi que et permeti accedir a:\n",
    "\n",
    "* El segon mes del primer trimestre.\n",
    "* Els mesos del primer trimestre.\n",
    "* Setembre i octubre."
   ]
  },
  {
   "cell_type": "code",
   "execution_count": 238,
   "id": "941ca2a8",
   "metadata": {},
   "outputs": [
    {
     "name": "stdout",
     "output_type": "stream",
     "text": [
      "febrer\n",
      "['gener', 'febrer', 'març']\n",
      "setembre i octubre\n"
     ]
    }
   ],
   "source": [
    "print(Trimestres[0][1])\n",
    "print(Trimestres[0])\n",
    "print(Trimestres[2][2]+\" i \"+Trimestres[3][0])"
   ]
  },
  {
   "cell_type": "markdown",
   "id": "9093a49a",
   "metadata": {},
   "source": [
    "# Exercici3\n",
    "#### Crea una llista amb nombres desordenats i respon a les següents preguntes:\n",
    "\n",
    "* Quants números hi ha?\n",
    "* Quantes vegades apareix el número 3.\n",
    "* Quantes vegades apareixen els nombres 3 i 4?\n",
    "* Quin és el número més gran?\n",
    "* Quins són els 3 números més petits?\n",
    "* Quin és el rang d’aquesta llista?"
   ]
  },
  {
   "cell_type": "code",
   "execution_count": 239,
   "id": "ebea142a",
   "metadata": {},
   "outputs": [
    {
     "data": {
      "text/plain": [
       "[2, 6, 3, 3, 1, 4, 2, 7, 0, 5]"
      ]
     },
     "execution_count": 239,
     "metadata": {},
     "output_type": "execute_result"
    }
   ],
   "source": [
    "# creem una llista aleatòria de 10 numeros del 0 al 9\n",
    "import random\n",
    "llista=[]\n",
    "for x in range (0, 10):\n",
    "    llista.append(random.randint(0, 9))\n",
    "llista"
   ]
  },
  {
   "cell_type": "markdown",
   "id": "62b93960",
   "metadata": {},
   "source": [
    "* Quants números hi ha?"
   ]
  },
  {
   "cell_type": "code",
   "execution_count": 241,
   "id": "ecc37cd7",
   "metadata": {},
   "outputs": [
    {
     "name": "stdout",
     "output_type": "stream",
     "text": [
      "La llista té 10 números.\n"
     ]
    }
   ],
   "source": [
    "print('La llista té',len(llista),'números.')\n",
    "      "
   ]
  },
  {
   "cell_type": "markdown",
   "id": "cb809358",
   "metadata": {},
   "source": [
    "* Quantes vegades apareix el número 3."
   ]
  },
  {
   "cell_type": "code",
   "execution_count": 242,
   "id": "3747aca1",
   "metadata": {},
   "outputs": [],
   "source": [
    "def contarListaEnLista(lista, lista2):\n",
    "    for x in lista2:\n",
    "        print('El número: '+str(x)+' surt '+str(lista.count(x))+' vagades a la llista')"
   ]
  },
  {
   "cell_type": "code",
   "execution_count": 243,
   "id": "6d5e57b1",
   "metadata": {},
   "outputs": [
    {
     "name": "stdout",
     "output_type": "stream",
     "text": [
      "El número: 3 surt 2 vagades a la llista\n"
     ]
    }
   ],
   "source": [
    "contarListaEnLista(llista,[3])"
   ]
  },
  {
   "cell_type": "markdown",
   "id": "6b0355f8",
   "metadata": {},
   "source": [
    "* Quantes vegades apareixen els nombres 3 i 4?"
   ]
  },
  {
   "cell_type": "code",
   "execution_count": 244,
   "id": "cb1044d2",
   "metadata": {},
   "outputs": [
    {
     "name": "stdout",
     "output_type": "stream",
     "text": [
      "El número: 3 surt 2 vagades a la llista\n",
      "El número: 4 surt 1 vagades a la llista\n"
     ]
    }
   ],
   "source": [
    "contarListaEnLista(llista,[3,4])"
   ]
  },
  {
   "cell_type": "markdown",
   "id": "75b30743",
   "metadata": {},
   "source": [
    "* Quin és el número més gran?"
   ]
  },
  {
   "cell_type": "code",
   "execution_count": 246,
   "id": "148c9f1b",
   "metadata": {},
   "outputs": [
    {
     "name": "stdout",
     "output_type": "stream",
     "text": [
      "El número més gran de la llista és el: 7\n"
     ]
    }
   ],
   "source": [
    "print('El número més gran de la llista és el:', max(llista))"
   ]
  },
  {
   "cell_type": "markdown",
   "id": "762c46c1",
   "metadata": {},
   "source": [
    "* Quins són els 3 números més petits?"
   ]
  },
  {
   "cell_type": "code",
   "execution_count": 249,
   "id": "9b7402f2",
   "metadata": {},
   "outputs": [],
   "source": [
    "llistaAux = list( dict.fromkeys(llista) ) #elimina els duplicats de la llista\n",
    "llistaAux.sort() #ordenem la llista per agafar els 3 primers"
   ]
  },
  {
   "cell_type": "code",
   "execution_count": 250,
   "id": "c070e1bd",
   "metadata": {},
   "outputs": [
    {
     "name": "stdout",
     "output_type": "stream",
     "text": [
      "Els 3 números més petits de la llista són: [0, 1, 2]\n"
     ]
    }
   ],
   "source": [
    "print('Els 3 números més petits de la llista són:', llistaAux[:3])"
   ]
  },
  {
   "cell_type": "markdown",
   "id": "94118d63",
   "metadata": {},
   "source": [
    "* Quin és el rang d’aquesta llista?"
   ]
  },
  {
   "cell_type": "code",
   "execution_count": 251,
   "id": "6f83c51d",
   "metadata": {},
   "outputs": [
    {
     "name": "stdout",
     "output_type": "stream",
     "text": [
      "El rang de la llista és: 10\n"
     ]
    }
   ],
   "source": [
    "print('El rang de la llista és:', len(llista))"
   ]
  },
  {
   "cell_type": "markdown",
   "id": "f414ac27",
   "metadata": {},
   "source": [
    "# Exercici4\n",
    "#### Crea un diccionari de la següent forma i respon a les preguntes:\n",
    "#### compra = { \"Pomes\" : {\"Qty\": 5, \"€\": 0.42}, \"Peres\" : {\"Qty\": 3, \"€\": 0.66} }\n",
    "* Afegeix alguna fruita més\n",
    "* Quant han costat les peres en total?\n",
    "* Quantes fruites hem comprat en total?\n",
    "* Quina és la fruita més cara?"
   ]
  },
  {
   "cell_type": "code",
   "execution_count": 252,
   "id": "317eb7ad",
   "metadata": {},
   "outputs": [],
   "source": [
    "compra = { \"Pomes\" : {\"Qty\": 5, \"€\": 0.42}, \"Peres\" : {\"Qty\": 3, \"€\": 0.66} }"
   ]
  },
  {
   "cell_type": "code",
   "execution_count": 253,
   "id": "e315fe62",
   "metadata": {},
   "outputs": [],
   "source": [
    "compra[\"Maduixes\"] = {\"Qty\": 7, \"€\": 0.77}"
   ]
  },
  {
   "cell_type": "code",
   "execution_count": 254,
   "id": "6a425845",
   "metadata": {},
   "outputs": [
    {
     "name": "stdout",
     "output_type": "stream",
     "text": [
      "{'Pomes': {'Qty': 5, '€': 0.42}, 'Peres': {'Qty': 3, '€': 0.66}, 'Maduixes': {'Qty': 7, '€': 0.77}}\n"
     ]
    }
   ],
   "source": [
    "print(compra)"
   ]
  },
  {
   "cell_type": "code",
   "execution_count": 259,
   "id": "af3daaba",
   "metadata": {},
   "outputs": [
    {
     "name": "stdout",
     "output_type": "stream",
     "text": [
      "Les Peres han costat 1.98€\n"
     ]
    }
   ],
   "source": [
    "print(\"Les Peres han costat \"+str(float(compra['Peres']['Qty'])*float(compra['Peres']['€']))+\"€\")"
   ]
  },
  {
   "cell_type": "code",
   "execution_count": 260,
   "id": "2d778d73",
   "metadata": {},
   "outputs": [
    {
     "name": "stdout",
     "output_type": "stream",
     "text": [
      "Hem comprat 3 en total\n"
     ]
    }
   ],
   "source": [
    "print(\"Hem comprat \"+ str(len(compra))+\" en total\")"
   ]
  },
  {
   "cell_type": "code",
   "execution_count": 261,
   "id": "6ac9e500",
   "metadata": {},
   "outputs": [
    {
     "name": "stdout",
     "output_type": "stream",
     "text": [
      "La fruita més cara són les Maduixes amb un preu de 0.77€\n"
     ]
    }
   ],
   "source": [
    "precio=0\n",
    "mesCar=''\n",
    "for x in compra:\n",
    "  if(compra[x]['€'])>precio:\n",
    "    precio=compra[x]['€']\n",
    "    mesCar=x\n",
    "print(\"La fruita més cara són les \"+mesCar+\" amb un preu de \"+str(precio)+'€')    \n",
    "    \n",
    "    "
   ]
  },
  {
   "cell_type": "code",
   "execution_count": null,
   "id": "6770028c",
   "metadata": {},
   "outputs": [],
   "source": []
  }
 ],
 "metadata": {
  "kernelspec": {
   "display_name": "Python 3 (ipykernel)",
   "language": "python",
   "name": "python3"
  },
  "language_info": {
   "codemirror_mode": {
    "name": "ipython",
    "version": 3
   },
   "file_extension": ".py",
   "mimetype": "text/x-python",
   "name": "python",
   "nbconvert_exporter": "python",
   "pygments_lexer": "ipython3",
   "version": "3.9.12"
  }
 },
 "nbformat": 4,
 "nbformat_minor": 5
}
