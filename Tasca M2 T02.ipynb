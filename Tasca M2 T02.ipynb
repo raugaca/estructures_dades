{
 "cells": [
  {
   "cell_type": "markdown",
   "id": "fe79eef3",
   "metadata": {},
   "source": [
    "# Exercici 1\n",
    "#### L'exercici consisteix a crear un programa que et classifiqui una variable numèrica en funció de l’escala Suspès/Aprovat/Notable/Excel·lent.\n",
    "#### Recorda que Suspès < 5, Aprovat > 5 i < 7, Notable > 7 i < 9 i Excel·lent > 9."
   ]
  },
  {
   "cell_type": "code",
   "execution_count": 98,
   "id": "ed8fcf86",
   "metadata": {},
   "outputs": [
    {
     "name": "stdout",
     "output_type": "stream",
     "text": [
      "Introdueix un número: 7\n",
      "Notable\n"
     ]
    }
   ],
   "source": [
    "num = float(input(\"Introdueix un número: \"))\n",
    "if num <5:\n",
    "    print(\"Suspès\")\n",
    "elif num<7:\n",
    "    print(\"Aprovat\")\n",
    "elif num<9:\n",
    "    print(\"Notable\")\n",
    "elif num<=10:\n",
    "    print(\"Excel-lent\")\n",
    "else:\n",
    "    print(\"La nota introduïda no és correcta.\")"
   ]
  },
  {
   "cell_type": "markdown",
   "id": "d66b738d",
   "metadata": {},
   "source": [
    "# Exercici2\n",
    "#### Utilitzant el següent tutorial crea un programa que et pregunti dos números. T’ha de mostrar un missatge dient si el primer és més gran, el segon és més gran o són iguals."
   ]
  },
  {
   "cell_type": "code",
   "execution_count": 103,
   "id": "941ca2a8",
   "metadata": {},
   "outputs": [
    {
     "name": "stdout",
     "output_type": "stream",
     "text": [
      "Introdueix el primer número(num1): 2\n",
      "Introdueix el segon número(num2): 2\n"
     ]
    }
   ],
   "source": [
    "num1 = float(input(\"Introdueix el primer número(num1): \"))\n",
    "num2 = float(input(\"Introdueix el segon número(num2): \"))"
   ]
  },
  {
   "cell_type": "code",
   "execution_count": 104,
   "id": "91187d27",
   "metadata": {},
   "outputs": [
    {
     "name": "stdout",
     "output_type": "stream",
     "text": [
      "Els números num1 i num2 són iguals: 2.0\n"
     ]
    }
   ],
   "source": [
    "if num1>num2:\n",
    "    print('El número num1 {} és més gran que num2 {}'.format(num1,num2))\n",
    "elif num1<num2:\n",
    "    print('El número num1 {} és més petit que num2 {}'.format(num1,num2))\n",
    "else:\n",
    "    print('Els números num1 i num2 són iguals: {}'.format(num1))"
   ]
  },
  {
   "cell_type": "markdown",
   "id": "9093a49a",
   "metadata": {},
   "source": [
    "# Exercici3\n",
    "#### Crea un programa que et pregunti el teu nom, i et demani un número. Si el número és 0, hauria de mostrar un missatge d’error. En cas contrari, hauria de mostrar el nom repetit tants cops com indiqui el número. Per exemple, “Joan Joan Joan”."
   ]
  },
  {
   "cell_type": "code",
   "execution_count": 107,
   "id": "ebea142a",
   "metadata": {},
   "outputs": [
    {
     "name": "stdout",
     "output_type": "stream",
     "text": [
      "Introdueix el teu nom: Pol\n",
      "Introdueix un número: 3\n",
      "PolPolPol\n"
     ]
    }
   ],
   "source": [
    "nom = str(input(\"Introdueix el teu nom: \"))\n",
    "edat = int(input(\"Introdueix un número: \"))\n",
    "\n",
    "if edat<=0:\n",
    "    print('La edat introduïda no és correcta.')\n",
    "else:\n",
    "    print(nom*edat)"
   ]
  },
  {
   "cell_type": "markdown",
   "id": "f414ac27",
   "metadata": {},
   "source": [
    "# Exercici4\n",
    "#### Crea un programa que donada una llista qualsevol, et digui si és simètrica o no. Si ho és, que et digui quants elements té."
   ]
  },
  {
   "cell_type": "code",
   "execution_count": 112,
   "id": "7e0f1361",
   "metadata": {},
   "outputs": [],
   "source": [
    "llista=[2,1,1,2]\n",
    "listaRev=list(reversed(llista)) #Serveix per girar la llista"
   ]
  },
  {
   "cell_type": "code",
   "execution_count": 113,
   "id": "5c35ffd5",
   "metadata": {},
   "outputs": [
    {
     "name": "stdout",
     "output_type": "stream",
     "text": [
      "La llista és simètrica i té 4 elements.\n"
     ]
    }
   ],
   "source": [
    "if listaRev==llista:\n",
    "    print('La llista és simètrica i té',len(llista),'elements.')\n",
    "else:\n",
    "    print('La llista no és simètrica')"
   ]
  },
  {
   "cell_type": "markdown",
   "id": "7acb5e49",
   "metadata": {},
   "source": [
    "# Exercici5\n",
    "#### Crea un programa que donada una llista, et digui quants números coincideixen amb la seva posició. Per exemple [3,4,2,0,2,3,6] el 2 i el 6 coincideixen."
   ]
  },
  {
   "cell_type": "code",
   "execution_count": 124,
   "id": "77b2918c",
   "metadata": {},
   "outputs": [
    {
     "data": {
      "text/plain": [
       "[5, 6, 0, 7, 4, 5, 6, 5, 1, 2]"
      ]
     },
     "execution_count": 124,
     "metadata": {},
     "output_type": "execute_result"
    }
   ],
   "source": [
    "# creem una llista aleatòria de 10 numeros del 0 al 9\n",
    "import random\n",
    "llista=[]\n",
    "for x in range (0, 10):\n",
    "    llista.append(random.randint(0, 9))\n",
    "llista"
   ]
  },
  {
   "cell_type": "code",
   "execution_count": 125,
   "id": "780c5a1c",
   "metadata": {},
   "outputs": [
    {
     "name": "stdout",
     "output_type": "stream",
     "text": [
      "Els números que coincideixen en posició són: 4, 5, 6\n"
     ]
    }
   ],
   "source": [
    "coincidències=''\n",
    "varResult=False\n",
    "\n",
    "for x in range(0, len(llista)):\n",
    "    if x==llista[x]:\n",
    "        if coincidències=='':\n",
    "            coincidències=str(x)\n",
    "        else:\n",
    "            varResult=True\n",
    "            coincidències=coincidències+\", \"+str(x)\n",
    "\n",
    "if coincidències=='':\n",
    "      print(\"No hi ha cap coincidència entre números i posicions\")\n",
    "else:\n",
    "    if varResult==False:\n",
    "        print(\"El número que coincideix en posició és el\",coincidències)\n",
    "    else:\n",
    "        print(\"Els números que coincideixen en posició són:\",coincidències)"
   ]
  },
  {
   "cell_type": "code",
   "execution_count": null,
   "id": "97137c95",
   "metadata": {},
   "outputs": [],
   "source": []
  }
 ],
 "metadata": {
  "kernelspec": {
   "display_name": "Python 3 (ipykernel)",
   "language": "python",
   "name": "python3"
  },
  "language_info": {
   "codemirror_mode": {
    "name": "ipython",
    "version": 3
   },
   "file_extension": ".py",
   "mimetype": "text/x-python",
   "name": "python",
   "nbconvert_exporter": "python",
   "pygments_lexer": "ipython3",
   "version": "3.9.12"
  }
 },
 "nbformat": 4,
 "nbformat_minor": 5
}
